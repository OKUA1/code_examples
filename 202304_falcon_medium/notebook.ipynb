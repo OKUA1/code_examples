{
 "cells": [
  {
   "cell_type": "code",
   "execution_count": 1,
   "id": "9a5b0569",
   "metadata": {},
   "outputs": [],
   "source": [
    "import numpy as np\n",
    "import pandas as pd\n",
    "import matplotlib.pyplot as plt\n",
    "from imblearn.over_sampling import RandomOverSampler\n",
    "from sklearn.model_selection import train_test_split, GridSearchCV\n",
    "from sklearn.compose import ColumnTransformer\n",
    "from sklearn.preprocessing import StandardScaler, OneHotEncoder, LabelEncoder\n",
    "from sklearn.pipeline import make_pipeline\n",
    "from sklearn.metrics import balanced_accuracy_score\n",
    "from xgboost import XGBClassifier"
   ]
  },
  {
   "cell_type": "markdown",
   "id": "b7d81a1a",
   "metadata": {},
   "source": [
    "We will be working with the adapted Telco Customer Churn dataset. It contains 19 customer's attributes (features), the description of each of them can be found here: https://www.kaggle.com/datasets/blastchar/telco-customer-churn. The target column 'churn' indicates whether the customer left within the last month. The goal of the project is to predict customer churn."
   ]
  },
  {
   "cell_type": "markdown",
   "id": "99aa8442",
   "metadata": {},
   "source": [
    "As the first step, let us examine the dataset."
   ]
  },
  {
   "cell_type": "markdown",
   "id": "bfa1a5a9",
   "metadata": {},
   "source": [
    "## Examine the dataset"
   ]
  },
  {
   "cell_type": "code",
   "execution_count": 2,
   "id": "66e76be5",
   "metadata": {},
   "outputs": [
    {
     "data": {
      "text/plain": [
       "(7043, 20)"
      ]
     },
     "execution_count": 2,
     "metadata": {},
     "output_type": "execute_result"
    }
   ],
   "source": [
    "df = pd.read_csv('train_dataset.csv')\n",
    "df.shape"
   ]
  },
  {
   "cell_type": "code",
   "execution_count": 3,
   "id": "0e1af709",
   "metadata": {
    "scrolled": true
   },
   "outputs": [
    {
     "data": {
      "text/html": [
       "<div>\n",
       "<style scoped>\n",
       "    .dataframe tbody tr th:only-of-type {\n",
       "        vertical-align: middle;\n",
       "    }\n",
       "\n",
       "    .dataframe tbody tr th {\n",
       "        vertical-align: top;\n",
       "    }\n",
       "\n",
       "    .dataframe thead th {\n",
       "        text-align: right;\n",
       "    }\n",
       "</style>\n",
       "<table border=\"1\" class=\"dataframe\">\n",
       "  <thead>\n",
       "    <tr style=\"text-align: right;\">\n",
       "      <th></th>\n",
       "      <th>gender</th>\n",
       "      <th>SeniorCitizen</th>\n",
       "      <th>Partner</th>\n",
       "      <th>Dependents</th>\n",
       "      <th>tenure</th>\n",
       "      <th>PhoneService</th>\n",
       "      <th>MultipleLines</th>\n",
       "      <th>InternetService</th>\n",
       "      <th>OnlineSecurity</th>\n",
       "      <th>OnlineBackup</th>\n",
       "      <th>DeviceProtection</th>\n",
       "      <th>TechSupport</th>\n",
       "      <th>StreamingTV</th>\n",
       "      <th>StreamingMovies</th>\n",
       "      <th>Contract</th>\n",
       "      <th>PaperlessBilling</th>\n",
       "      <th>PaymentMethod</th>\n",
       "      <th>MonthlyCharges</th>\n",
       "      <th>TotalCharges</th>\n",
       "      <th>Churn</th>\n",
       "    </tr>\n",
       "  </thead>\n",
       "  <tbody>\n",
       "    <tr>\n",
       "      <th>0</th>\n",
       "      <td>Female</td>\n",
       "      <td>0</td>\n",
       "      <td>Yes</td>\n",
       "      <td>No</td>\n",
       "      <td>1</td>\n",
       "      <td>No</td>\n",
       "      <td>No phone service</td>\n",
       "      <td>DSL</td>\n",
       "      <td>No</td>\n",
       "      <td>Yes</td>\n",
       "      <td>No</td>\n",
       "      <td>No</td>\n",
       "      <td>No</td>\n",
       "      <td>No</td>\n",
       "      <td>Month-to-month</td>\n",
       "      <td>Yes</td>\n",
       "      <td>Electronic check</td>\n",
       "      <td>29.85</td>\n",
       "      <td>29.85</td>\n",
       "      <td>No</td>\n",
       "    </tr>\n",
       "    <tr>\n",
       "      <th>1</th>\n",
       "      <td>Male</td>\n",
       "      <td>0</td>\n",
       "      <td>No</td>\n",
       "      <td>No</td>\n",
       "      <td>34</td>\n",
       "      <td>Yes</td>\n",
       "      <td>No</td>\n",
       "      <td>DSL</td>\n",
       "      <td>Yes</td>\n",
       "      <td>No</td>\n",
       "      <td>Yes</td>\n",
       "      <td>No</td>\n",
       "      <td>No</td>\n",
       "      <td>No</td>\n",
       "      <td>One year</td>\n",
       "      <td>No</td>\n",
       "      <td>Mailed check</td>\n",
       "      <td>56.95</td>\n",
       "      <td>1889.50</td>\n",
       "      <td>No</td>\n",
       "    </tr>\n",
       "    <tr>\n",
       "      <th>2</th>\n",
       "      <td>Male</td>\n",
       "      <td>0</td>\n",
       "      <td>No</td>\n",
       "      <td>No</td>\n",
       "      <td>2</td>\n",
       "      <td>Yes</td>\n",
       "      <td>No</td>\n",
       "      <td>DSL</td>\n",
       "      <td>Yes</td>\n",
       "      <td>Yes</td>\n",
       "      <td>No</td>\n",
       "      <td>No</td>\n",
       "      <td>No</td>\n",
       "      <td>No</td>\n",
       "      <td>Month-to-month</td>\n",
       "      <td>Yes</td>\n",
       "      <td>Mailed check</td>\n",
       "      <td>53.85</td>\n",
       "      <td>108.15</td>\n",
       "      <td>Yes</td>\n",
       "    </tr>\n",
       "    <tr>\n",
       "      <th>3</th>\n",
       "      <td>Male</td>\n",
       "      <td>0</td>\n",
       "      <td>No</td>\n",
       "      <td>No</td>\n",
       "      <td>45</td>\n",
       "      <td>No</td>\n",
       "      <td>No phone service</td>\n",
       "      <td>DSL</td>\n",
       "      <td>Yes</td>\n",
       "      <td>No</td>\n",
       "      <td>Yes</td>\n",
       "      <td>Yes</td>\n",
       "      <td>No</td>\n",
       "      <td>No</td>\n",
       "      <td>One year</td>\n",
       "      <td>No</td>\n",
       "      <td>Bank transfer (automatic)</td>\n",
       "      <td>42.30</td>\n",
       "      <td>1840.75</td>\n",
       "      <td>No</td>\n",
       "    </tr>\n",
       "    <tr>\n",
       "      <th>4</th>\n",
       "      <td>Female</td>\n",
       "      <td>0</td>\n",
       "      <td>No</td>\n",
       "      <td>No</td>\n",
       "      <td>2</td>\n",
       "      <td>Yes</td>\n",
       "      <td>No</td>\n",
       "      <td>Fiber optic</td>\n",
       "      <td>No</td>\n",
       "      <td>No</td>\n",
       "      <td>No</td>\n",
       "      <td>No</td>\n",
       "      <td>No</td>\n",
       "      <td>No</td>\n",
       "      <td>Month-to-month</td>\n",
       "      <td>Yes</td>\n",
       "      <td>Electronic check</td>\n",
       "      <td>70.70</td>\n",
       "      <td>151.65</td>\n",
       "      <td>Yes</td>\n",
       "    </tr>\n",
       "  </tbody>\n",
       "</table>\n",
       "</div>"
      ],
      "text/plain": [
       "   gender  SeniorCitizen Partner Dependents  tenure PhoneService  \\\n",
       "0  Female              0     Yes         No       1           No   \n",
       "1    Male              0      No         No      34          Yes   \n",
       "2    Male              0      No         No       2          Yes   \n",
       "3    Male              0      No         No      45           No   \n",
       "4  Female              0      No         No       2          Yes   \n",
       "\n",
       "      MultipleLines InternetService OnlineSecurity OnlineBackup  \\\n",
       "0  No phone service             DSL             No          Yes   \n",
       "1                No             DSL            Yes           No   \n",
       "2                No             DSL            Yes          Yes   \n",
       "3  No phone service             DSL            Yes           No   \n",
       "4                No     Fiber optic             No           No   \n",
       "\n",
       "  DeviceProtection TechSupport StreamingTV StreamingMovies        Contract  \\\n",
       "0               No          No          No              No  Month-to-month   \n",
       "1              Yes          No          No              No        One year   \n",
       "2               No          No          No              No  Month-to-month   \n",
       "3              Yes         Yes          No              No        One year   \n",
       "4               No          No          No              No  Month-to-month   \n",
       "\n",
       "  PaperlessBilling              PaymentMethod  MonthlyCharges  TotalCharges  \\\n",
       "0              Yes           Electronic check           29.85         29.85   \n",
       "1               No               Mailed check           56.95       1889.50   \n",
       "2              Yes               Mailed check           53.85        108.15   \n",
       "3               No  Bank transfer (automatic)           42.30       1840.75   \n",
       "4              Yes           Electronic check           70.70        151.65   \n",
       "\n",
       "  Churn  \n",
       "0    No  \n",
       "1    No  \n",
       "2   Yes  \n",
       "3    No  \n",
       "4   Yes  "
      ]
     },
     "execution_count": 3,
     "metadata": {},
     "output_type": "execute_result"
    }
   ],
   "source": [
    "df.head()"
   ]
  },
  {
   "cell_type": "code",
   "execution_count": 4,
   "id": "37d21b05",
   "metadata": {},
   "outputs": [],
   "source": [
    "def explore_dataset(df):\n",
    "    \n",
    "    features = []\n",
    "    dtypes = []\n",
    "    count = []\n",
    "    unique = []\n",
    "    nans = []\n",
    "    \n",
    "    for item in df.columns:\n",
    "        features.append(item)\n",
    "        dtypes.append(df[item].dtype)\n",
    "        count.append(len(df[item]))\n",
    "        unique.append(len(df[item].unique()))\n",
    "        nans.append(df[item].isna().sum())\n",
    "        \n",
    "    output = pd.DataFrame({\n",
    "        'Feature': features, \n",
    "        'Dtype': dtypes,\n",
    "        'Count': count,\n",
    "        'Nr Unique': unique,\n",
    "        'Nr NA': nans\n",
    "    })    \n",
    "        \n",
    "    return output"
   ]
  },
  {
   "cell_type": "code",
   "execution_count": 5,
   "id": "c984a9cc",
   "metadata": {},
   "outputs": [
    {
     "data": {
      "text/html": [
       "<div>\n",
       "<style scoped>\n",
       "    .dataframe tbody tr th:only-of-type {\n",
       "        vertical-align: middle;\n",
       "    }\n",
       "\n",
       "    .dataframe tbody tr th {\n",
       "        vertical-align: top;\n",
       "    }\n",
       "\n",
       "    .dataframe thead th {\n",
       "        text-align: right;\n",
       "    }\n",
       "</style>\n",
       "<table border=\"1\" class=\"dataframe\">\n",
       "  <thead>\n",
       "    <tr style=\"text-align: right;\">\n",
       "      <th></th>\n",
       "      <th>Feature</th>\n",
       "      <th>Dtype</th>\n",
       "      <th>Count</th>\n",
       "      <th>Nr Unique</th>\n",
       "      <th>Nr NA</th>\n",
       "    </tr>\n",
       "  </thead>\n",
       "  <tbody>\n",
       "    <tr>\n",
       "      <th>0</th>\n",
       "      <td>gender</td>\n",
       "      <td>object</td>\n",
       "      <td>7043</td>\n",
       "      <td>2</td>\n",
       "      <td>0</td>\n",
       "    </tr>\n",
       "    <tr>\n",
       "      <th>1</th>\n",
       "      <td>SeniorCitizen</td>\n",
       "      <td>int64</td>\n",
       "      <td>7043</td>\n",
       "      <td>2</td>\n",
       "      <td>0</td>\n",
       "    </tr>\n",
       "    <tr>\n",
       "      <th>2</th>\n",
       "      <td>Partner</td>\n",
       "      <td>object</td>\n",
       "      <td>7043</td>\n",
       "      <td>2</td>\n",
       "      <td>0</td>\n",
       "    </tr>\n",
       "    <tr>\n",
       "      <th>3</th>\n",
       "      <td>Dependents</td>\n",
       "      <td>object</td>\n",
       "      <td>7043</td>\n",
       "      <td>2</td>\n",
       "      <td>0</td>\n",
       "    </tr>\n",
       "    <tr>\n",
       "      <th>4</th>\n",
       "      <td>tenure</td>\n",
       "      <td>int64</td>\n",
       "      <td>7043</td>\n",
       "      <td>73</td>\n",
       "      <td>0</td>\n",
       "    </tr>\n",
       "    <tr>\n",
       "      <th>5</th>\n",
       "      <td>PhoneService</td>\n",
       "      <td>object</td>\n",
       "      <td>7043</td>\n",
       "      <td>2</td>\n",
       "      <td>0</td>\n",
       "    </tr>\n",
       "    <tr>\n",
       "      <th>6</th>\n",
       "      <td>MultipleLines</td>\n",
       "      <td>object</td>\n",
       "      <td>7043</td>\n",
       "      <td>3</td>\n",
       "      <td>0</td>\n",
       "    </tr>\n",
       "    <tr>\n",
       "      <th>7</th>\n",
       "      <td>InternetService</td>\n",
       "      <td>object</td>\n",
       "      <td>7043</td>\n",
       "      <td>3</td>\n",
       "      <td>0</td>\n",
       "    </tr>\n",
       "    <tr>\n",
       "      <th>8</th>\n",
       "      <td>OnlineSecurity</td>\n",
       "      <td>object</td>\n",
       "      <td>7043</td>\n",
       "      <td>3</td>\n",
       "      <td>0</td>\n",
       "    </tr>\n",
       "    <tr>\n",
       "      <th>9</th>\n",
       "      <td>OnlineBackup</td>\n",
       "      <td>object</td>\n",
       "      <td>7043</td>\n",
       "      <td>3</td>\n",
       "      <td>0</td>\n",
       "    </tr>\n",
       "    <tr>\n",
       "      <th>10</th>\n",
       "      <td>DeviceProtection</td>\n",
       "      <td>object</td>\n",
       "      <td>7043</td>\n",
       "      <td>3</td>\n",
       "      <td>0</td>\n",
       "    </tr>\n",
       "    <tr>\n",
       "      <th>11</th>\n",
       "      <td>TechSupport</td>\n",
       "      <td>object</td>\n",
       "      <td>7043</td>\n",
       "      <td>3</td>\n",
       "      <td>0</td>\n",
       "    </tr>\n",
       "    <tr>\n",
       "      <th>12</th>\n",
       "      <td>StreamingTV</td>\n",
       "      <td>object</td>\n",
       "      <td>7043</td>\n",
       "      <td>3</td>\n",
       "      <td>0</td>\n",
       "    </tr>\n",
       "    <tr>\n",
       "      <th>13</th>\n",
       "      <td>StreamingMovies</td>\n",
       "      <td>object</td>\n",
       "      <td>7043</td>\n",
       "      <td>3</td>\n",
       "      <td>0</td>\n",
       "    </tr>\n",
       "    <tr>\n",
       "      <th>14</th>\n",
       "      <td>Contract</td>\n",
       "      <td>object</td>\n",
       "      <td>7043</td>\n",
       "      <td>3</td>\n",
       "      <td>0</td>\n",
       "    </tr>\n",
       "    <tr>\n",
       "      <th>15</th>\n",
       "      <td>PaperlessBilling</td>\n",
       "      <td>object</td>\n",
       "      <td>7043</td>\n",
       "      <td>2</td>\n",
       "      <td>0</td>\n",
       "    </tr>\n",
       "    <tr>\n",
       "      <th>16</th>\n",
       "      <td>PaymentMethod</td>\n",
       "      <td>object</td>\n",
       "      <td>7043</td>\n",
       "      <td>4</td>\n",
       "      <td>0</td>\n",
       "    </tr>\n",
       "    <tr>\n",
       "      <th>17</th>\n",
       "      <td>MonthlyCharges</td>\n",
       "      <td>float64</td>\n",
       "      <td>7043</td>\n",
       "      <td>1585</td>\n",
       "      <td>0</td>\n",
       "    </tr>\n",
       "    <tr>\n",
       "      <th>18</th>\n",
       "      <td>TotalCharges</td>\n",
       "      <td>float64</td>\n",
       "      <td>7043</td>\n",
       "      <td>6531</td>\n",
       "      <td>11</td>\n",
       "    </tr>\n",
       "    <tr>\n",
       "      <th>19</th>\n",
       "      <td>Churn</td>\n",
       "      <td>object</td>\n",
       "      <td>7043</td>\n",
       "      <td>2</td>\n",
       "      <td>0</td>\n",
       "    </tr>\n",
       "  </tbody>\n",
       "</table>\n",
       "</div>"
      ],
      "text/plain": [
       "             Feature    Dtype  Count  Nr Unique  Nr NA\n",
       "0             gender   object   7043          2      0\n",
       "1      SeniorCitizen    int64   7043          2      0\n",
       "2            Partner   object   7043          2      0\n",
       "3         Dependents   object   7043          2      0\n",
       "4             tenure    int64   7043         73      0\n",
       "5       PhoneService   object   7043          2      0\n",
       "6      MultipleLines   object   7043          3      0\n",
       "7    InternetService   object   7043          3      0\n",
       "8     OnlineSecurity   object   7043          3      0\n",
       "9       OnlineBackup   object   7043          3      0\n",
       "10  DeviceProtection   object   7043          3      0\n",
       "11       TechSupport   object   7043          3      0\n",
       "12       StreamingTV   object   7043          3      0\n",
       "13   StreamingMovies   object   7043          3      0\n",
       "14          Contract   object   7043          3      0\n",
       "15  PaperlessBilling   object   7043          2      0\n",
       "16     PaymentMethod   object   7043          4      0\n",
       "17    MonthlyCharges  float64   7043       1585      0\n",
       "18      TotalCharges  float64   7043       6531     11\n",
       "19             Churn   object   7043          2      0"
      ]
     },
     "execution_count": 5,
     "metadata": {},
     "output_type": "execute_result"
    }
   ],
   "source": [
    "explore_dataset(df)"
   ]
  },
  {
   "cell_type": "markdown",
   "id": "921ac90f",
   "metadata": {},
   "source": [
    "Since there are 11 missing values in TotalCharges column, we will need to remove them."
   ]
  },
  {
   "cell_type": "code",
   "execution_count": 6,
   "id": "bac364d7",
   "metadata": {},
   "outputs": [],
   "source": [
    "df.dropna(axis = 0, inplace = True)"
   ]
  },
  {
   "cell_type": "markdown",
   "id": "7b978fed",
   "metadata": {},
   "source": [
    "Let us check if the dataset is balanced by calculating the number if samples in each class."
   ]
  },
  {
   "cell_type": "code",
   "execution_count": 7,
   "id": "9d0b421a",
   "metadata": {},
   "outputs": [
    {
     "data": {
      "text/plain": [
       "No     5163\n",
       "Yes    1869\n",
       "Name: Churn, dtype: int64"
      ]
     },
     "execution_count": 7,
     "metadata": {},
     "output_type": "execute_result"
    }
   ],
   "source": [
    "df['Churn'].value_counts()"
   ]
  },
  {
   "cell_type": "code",
   "execution_count": 8,
   "id": "3d53fe4a",
   "metadata": {},
   "outputs": [
    {
     "data": {
      "image/png": "[encoded data removed]",
      "text/plain": [
       "<Figure size 640x480 with 1 Axes>"
      ]
     },
     "metadata": {},
     "output_type": "display_data"
    }
   ],
   "source": [
    "unique_labels, counts = np.unique(df['Churn'], return_counts=True)\n",
    "plt.bar(unique_labels, counts)\n",
    "plt.xlabel('Churn')\n",
    "plt.ylabel('Number of samples')\n",
    "plt.title('Churn distribution in the dataset')\n",
    "plt.show()"
   ]
  },
  {
   "cell_type": "markdown",
   "id": "7b806391",
   "metadata": {},
   "source": [
    "Since the samples of the class Churn rate = Yes appear ~2.76 times less frequent than samples of the class Churn rate = No, we would need to appy over-sampling technique. The easiest approach is to randomly duplicate samples in the under-represented class.\n",
    "\n",
    "Before applying over-sampling, dataset split into random train and test subsets as well as feature preprocessing need to be done."
   ]
  },
  {
   "cell_type": "markdown",
   "id": "ee366480",
   "metadata": {},
   "source": [
    "## Split the dataset into train and test subsets"
   ]
  },
  {
   "cell_type": "code",
   "execution_count": 9,
   "id": "572d6138",
   "metadata": {},
   "outputs": [],
   "source": [
    "seed = 42\n",
    "# features X\n",
    "X = df.drop('Churn', axis = 1)\n",
    "# target y\n",
    "y = df['Churn']\n",
    "# split the dataset into train and test subsets\n",
    "X_train, X_test, y_train, y_test = train_test_split(X, y, test_size = 0.25, random_state = seed)"
   ]
  },
  {
   "cell_type": "markdown",
   "id": "cda86eff",
   "metadata": {},
   "source": [
    "## Feature preprocessing"
   ]
  },
  {
   "cell_type": "markdown",
   "id": "201f7b61",
   "metadata": {},
   "source": [
    "Numerical features can be standardized by removing the mean and scaling to unit variance, categorical features can be encoded as a one-hot numeric array. The target column Churn contains values Yes and No and can be simply encoded with values 0 and 1 using label encoder."
   ]
  },
  {
   "cell_type": "code",
   "execution_count": 10,
   "id": "d7a44be6",
   "metadata": {},
   "outputs": [
    {
     "data": {
      "text/html": [
       "<style>#sk-container-id-1 {color: black;background-color: white;}#sk-container-id-1 pre{padding: 0;}#sk-container-id-1 div.sk-toggleable {background-color: white;}#sk-container-id-1 label.sk-toggleable__label {cursor: pointer;display: block;width: 100%;margin-bottom: 0;padding: 0.3em;box-sizing: border-box;text-align: center;}#sk-container-id-1 label.sk-toggleable__label-arrow:before {content: \"▸\";float: left;margin-right: 0.25em;color: #696969;}#sk-container-id-1 label.sk-toggleable__label-arrow:hover:before {color: black;}#sk-container-id-1 div.sk-estimator:hover label.sk-toggleable__label-arrow:before {color: black;}#sk-container-id-1 div.sk-toggleable__content {max-height: 0;max-width: 0;overflow: hidden;text-align: left;background-color: #f0f8ff;}#sk-container-id-1 div.sk-toggleable__content pre {margin: 0.2em;color: black;border-radius: 0.25em;background-color: #f0f8ff;}#sk-container-id-1 input.sk-toggleable__control:checked~div.sk-toggleable__content {max-height: 200px;max-width: 100%;overflow: auto;}#sk-container-id-1 input.sk-toggleable__control:checked~label.sk-toggleable__label-arrow:before {content: \"▾\";}#sk-container-id-1 div.sk-estimator input.sk-toggleable__control:checked~label.sk-toggleable__label {background-color: #d4ebff;}#sk-container-id-1 div.sk-label input.sk-toggleable__control:checked~label.sk-toggleable__label {background-color: #d4ebff;}#sk-container-id-1 input.sk-hidden--visually {border: 0;clip: rect(1px 1px 1px 1px);clip: rect(1px, 1px, 1px, 1px);height: 1px;margin: -1px;overflow: hidden;padding: 0;position: absolute;width: 1px;}#sk-container-id-1 div.sk-estimator {font-family: monospace;background-color: #f0f8ff;border: 1px dotted black;border-radius: 0.25em;box-sizing: border-box;margin-bottom: 0.5em;}#sk-container-id-1 div.sk-estimator:hover {background-color: #d4ebff;}#sk-container-id-1 div.sk-parallel-item::after {content: \"\";width: 100%;border-bottom: 1px solid gray;flex-grow: 1;}#sk-container-id-1 div.sk-label:hover label.sk-toggleable__label {background-color: #d4ebff;}#sk-container-id-1 div.sk-serial::before {content: \"\";position: absolute;border-left: 1px solid gray;box-sizing: border-box;top: 0;bottom: 0;left: 50%;z-index: 0;}#sk-container-id-1 div.sk-serial {display: flex;flex-direction: column;align-items: center;background-color: white;padding-right: 0.2em;padding-left: 0.2em;position: relative;}#sk-container-id-1 div.sk-item {position: relative;z-index: 1;}#sk-container-id-1 div.sk-parallel {display: flex;align-items: stretch;justify-content: center;background-color: white;position: relative;}#sk-container-id-1 div.sk-item::before, #sk-container-id-1 div.sk-parallel-item::before {content: \"\";position: absolute;border-left: 1px solid gray;box-sizing: border-box;top: 0;bottom: 0;left: 50%;z-index: -1;}#sk-container-id-1 div.sk-parallel-item {display: flex;flex-direction: column;z-index: 1;position: relative;background-color: white;}#sk-container-id-1 div.sk-parallel-item:first-child::after {align-self: flex-end;width: 50%;}#sk-container-id-1 div.sk-parallel-item:last-child::after {align-self: flex-start;width: 50%;}#sk-container-id-1 div.sk-parallel-item:only-child::after {width: 0;}#sk-container-id-1 div.sk-dashed-wrapped {border: 1px dashed gray;margin: 0 0.4em 0.5em 0.4em;box-sizing: border-box;padding-bottom: 0.4em;background-color: white;}#sk-container-id-1 div.sk-label label {font-family: monospace;font-weight: bold;display: inline-block;line-height: 1.2em;}#sk-container-id-1 div.sk-label-container {text-align: center;}#sk-container-id-1 div.sk-container {/* jupyter's `normalize.less` sets `[hidden] { display: none; }` but bootstrap.min.css set `[hidden] { display: none !important; }` so we also need the `!important` here to be able to override the default hidden behavior on the sphinx rendered scikit-learn.org. See: https://github.com/scikit-learn/scikit-learn/issues/21755 */display: inline-block !important;position: relative;}#sk-container-id-1 div.sk-text-repr-fallback {display: none;}</style><div id=\"sk-container-id-1\" class=\"sk-top-container\"><div class=\"sk-text-repr-fallback\"><pre>LabelEncoder()</pre><b>In a Jupyter environment, please rerun this cell to show the HTML representation or trust the notebook. <br />On GitHub, the HTML representation is unable to render, please try loading this page with nbviewer.org.</b></div><div class=\"sk-container\" hidden><div class=\"sk-item\"><div class=\"sk-estimator sk-toggleable\"><input class=\"sk-toggleable__control sk-hidden--visually\" id=\"sk-estimator-id-1\" type=\"checkbox\" checked><label for=\"sk-estimator-id-1\" class=\"sk-toggleable__label sk-toggleable__label-arrow\">LabelEncoder</label><div class=\"sk-toggleable__content\"><pre>LabelEncoder()</pre></div></div></div></div></div>"
      ],
      "text/plain": [
       "LabelEncoder()"
      ]
     },
     "execution_count": 10,
     "metadata": {},
     "output_type": "execute_result"
    }
   ],
   "source": [
    "num_columns = [4, 17, 18]\n",
    "cat_columns = [0, 1, 2, 3, 5, 6, 7, 8, 9, 10, 11, 12, 13, 14, 15, 16]\n",
    "transformers = [(\"num\", StandardScaler(), num_columns), (\"cat\", OneHotEncoder(handle_unknown='ignore', sparse_output=False), cat_columns)]\n",
    "ct = ColumnTransformer(transformers)\n",
    "# fit the transformers using X_train\n",
    "ct.fit(X_train)\n",
    "le = LabelEncoder()\n",
    "# fit label encoder\n",
    "le.fit(y_train)"
   ]
  },
  {
   "cell_type": "markdown",
   "id": "39a4b5a4",
   "metadata": {},
   "source": [
    "Oversample the minority class."
   ]
  },
  {
   "cell_type": "code",
   "execution_count": 11,
   "id": "8cdb503f",
   "metadata": {},
   "outputs": [],
   "source": [
    "X_train_resampled, y_train_resampled = RandomOverSampler(random_state = seed).fit_resample(X_train, y_train)"
   ]
  },
  {
   "cell_type": "markdown",
   "id": "c6c715e3",
   "metadata": {},
   "source": [
    "## Model selection and hyperparameter tuning"
   ]
  },
  {
   "cell_type": "markdown",
   "id": "94ee293e",
   "metadata": {},
   "source": [
    "To predict the churn we would be using XGBoost classifier. The performance of the model heavily depends on the value of hyperparameters. In order to determine the most optimal hyperparameters, we will be applying grid search technique that exhaustively loops through a specified set of hyperparameter values."
   ]
  },
  {
   "cell_type": "code",
   "execution_count": 12,
   "id": "fd02c194",
   "metadata": {},
   "outputs": [
    {
     "name": "stdout",
     "output_type": "stream",
     "text": [
      "Fitting 5 folds for each of 18 candidates, totalling 90 fits\n",
      "[CV 1/5] END booster=gbtree, max_depth=None, n_estimators=50, random_state=42;, score=0.730 total time=   0.6s\n",
      "[CV 2/5] END booster=gbtree, max_depth=None, n_estimators=50, random_state=42;, score=0.707 total time=   0.2s\n",
      "[CV 3/5] END booster=gbtree, max_depth=None, n_estimators=50, random_state=42;, score=0.699 total time=   0.3s\n",
      "[CV 4/5] END booster=gbtree, max_depth=None, n_estimators=50, random_state=42;, score=0.712 total time=   0.3s\n",
      "[CV 5/5] END booster=gbtree, max_depth=None, n_estimators=50, random_state=42;, score=0.721 total time=   0.3s\n",
      "[CV 1/5] END booster=gbtree, max_depth=None, n_estimators=100, random_state=42;, score=0.716 total time=   1.6s\n",
      "[CV 2/5] END booster=gbtree, max_depth=None, n_estimators=100, random_state=42;, score=0.706 total time=   1.9s\n",
      "[CV 3/5] END booster=gbtree, max_depth=None, n_estimators=100, random_state=42;, score=0.700 total time=   0.7s\n",
      "[CV 4/5] END booster=gbtree, max_depth=None, n_estimators=100, random_state=42;, score=0.714 total time=   0.6s\n",
      "[CV 5/5] END booster=gbtree, max_depth=None, n_estimators=100, random_state=42;, score=0.721 total time=   0.6s\n",
      "[CV 1/5] END booster=gbtree, max_depth=None, n_estimators=150, random_state=42;, score=0.707 total time=   0.8s\n",
      "[CV 2/5] END booster=gbtree, max_depth=None, n_estimators=150, random_state=42;, score=0.709 total time=   0.9s\n",
      "[CV 3/5] END booster=gbtree, max_depth=None, n_estimators=150, random_state=42;, score=0.691 total time=   0.9s\n",
      "[CV 4/5] END booster=gbtree, max_depth=None, n_estimators=150, random_state=42;, score=0.706 total time=   0.8s\n",
      "[CV 5/5] END booster=gbtree, max_depth=None, n_estimators=150, random_state=42;, score=0.722 total time=   1.1s\n",
      "[CV 1/5] END booster=gbtree, max_depth=5, n_estimators=50, random_state=42;, score=0.710 total time=   0.3s\n",
      "[CV 2/5] END booster=gbtree, max_depth=5, n_estimators=50, random_state=42;, score=0.728 total time=   0.3s\n",
      "[CV 3/5] END booster=gbtree, max_depth=5, n_estimators=50, random_state=42;, score=0.707 total time=   0.3s\n",
      "[CV 4/5] END booster=gbtree, max_depth=5, n_estimators=50, random_state=42;, score=0.714 total time=   0.3s\n",
      "[CV 5/5] END booster=gbtree, max_depth=5, n_estimators=50, random_state=42;, score=0.719 total time=   0.2s\n",
      "[CV 1/5] END booster=gbtree, max_depth=5, n_estimators=100, random_state=42;, score=0.710 total time=   0.5s\n",
      "[CV 2/5] END booster=gbtree, max_depth=5, n_estimators=100, random_state=42;, score=0.716 total time=   0.5s\n",
      "[CV 3/5] END booster=gbtree, max_depth=5, n_estimators=100, random_state=42;, score=0.700 total time=   0.5s\n",
      "[CV 4/5] END booster=gbtree, max_depth=5, n_estimators=100, random_state=42;, score=0.714 total time=   0.7s\n",
      "[CV 5/5] END booster=gbtree, max_depth=5, n_estimators=100, random_state=42;, score=0.705 total time=   0.7s\n",
      "[CV 1/5] END booster=gbtree, max_depth=5, n_estimators=150, random_state=42;, score=0.715 total time=   0.8s\n",
      "[CV 2/5] END booster=gbtree, max_depth=5, n_estimators=150, random_state=42;, score=0.712 total time=   1.0s\n",
      "[CV 3/5] END booster=gbtree, max_depth=5, n_estimators=150, random_state=42;, score=0.698 total time=   0.8s\n",
      "[CV 4/5] END booster=gbtree, max_depth=5, n_estimators=150, random_state=42;, score=0.714 total time=   1.0s\n",
      "[CV 5/5] END booster=gbtree, max_depth=5, n_estimators=150, random_state=42;, score=0.715 total time=   1.0s\n",
      "[CV 1/5] END booster=gbtree, max_depth=10, n_estimators=50, random_state=42;, score=0.709 total time=   0.7s\n",
      "[CV 2/5] END booster=gbtree, max_depth=10, n_estimators=50, random_state=42;, score=0.711 total time=   1.9s\n",
      "[CV 3/5] END booster=gbtree, max_depth=10, n_estimators=50, random_state=42;, score=0.677 total time=   0.7s\n",
      "[CV 4/5] END booster=gbtree, max_depth=10, n_estimators=50, random_state=42;, score=0.696 total time=   0.6s\n",
      "[CV 5/5] END booster=gbtree, max_depth=10, n_estimators=50, random_state=42;, score=0.705 total time=   1.3s\n",
      "[CV 1/5] END booster=gbtree, max_depth=10, n_estimators=100, random_state=42;, score=0.714 total time=   1.9s\n",
      "[CV 2/5] END booster=gbtree, max_depth=10, n_estimators=100, random_state=42;, score=0.702 total time=   1.3s\n",
      "[CV 3/5] END booster=gbtree, max_depth=10, n_estimators=100, random_state=42;, score=0.678 total time=   1.4s\n",
      "[CV 4/5] END booster=gbtree, max_depth=10, n_estimators=100, random_state=42;, score=0.693 total time=   1.4s\n",
      "[CV 5/5] END booster=gbtree, max_depth=10, n_estimators=100, random_state=42;, score=0.709 total time=   1.5s\n",
      "[CV 1/5] END booster=gbtree, max_depth=10, n_estimators=150, random_state=42;, score=0.704 total time=   2.1s\n",
      "[CV 2/5] END booster=gbtree, max_depth=10, n_estimators=150, random_state=42;, score=0.702 total time=   3.6s\n",
      "[CV 3/5] END booster=gbtree, max_depth=10, n_estimators=150, random_state=42;, score=0.671 total time=   2.8s\n",
      "[CV 4/5] END booster=gbtree, max_depth=10, n_estimators=150, random_state=42;, score=0.703 total time=   2.1s\n",
      "[CV 5/5] END booster=gbtree, max_depth=10, n_estimators=150, random_state=42;, score=0.710 total time=   2.0s\n",
      "[CV 1/5] END booster=dart, max_depth=None, n_estimators=50, random_state=42;, score=0.730 total time=   1.0s\n",
      "[CV 2/5] END booster=dart, max_depth=None, n_estimators=50, random_state=42;, score=0.707 total time=   1.2s\n",
      "[CV 3/5] END booster=dart, max_depth=None, n_estimators=50, random_state=42;, score=0.699 total time=   1.1s\n",
      "[CV 4/5] END booster=dart, max_depth=None, n_estimators=50, random_state=42;, score=0.712 total time=   2.1s\n",
      "[CV 5/5] END booster=dart, max_depth=None, n_estimators=50, random_state=42;, score=0.721 total time=   1.1s\n",
      "[CV 1/5] END booster=dart, max_depth=None, n_estimators=100, random_state=42;, score=0.716 total time=   3.0s\n",
      "[CV 2/5] END booster=dart, max_depth=None, n_estimators=100, random_state=42;, score=0.706 total time=   3.1s\n",
      "[CV 3/5] END booster=dart, max_depth=None, n_estimators=100, random_state=42;, score=0.700 total time=   4.5s\n",
      "[CV 4/5] END booster=dart, max_depth=None, n_estimators=100, random_state=42;, score=0.714 total time=   3.0s\n",
      "[CV 5/5] END booster=dart, max_depth=None, n_estimators=100, random_state=42;, score=0.721 total time=   3.0s\n",
      "[CV 1/5] END booster=dart, max_depth=None, n_estimators=150, random_state=42;, score=0.707 total time=   5.8s\n",
      "[CV 2/5] END booster=dart, max_depth=None, n_estimators=150, random_state=42;, score=0.709 total time=   5.8s\n",
      "[CV 3/5] END booster=dart, max_depth=None, n_estimators=150, random_state=42;, score=0.691 total time=   5.6s\n",
      "[CV 4/5] END booster=dart, max_depth=None, n_estimators=150, random_state=42;, score=0.706 total time=   5.8s\n",
      "[CV 5/5] END booster=dart, max_depth=None, n_estimators=150, random_state=42;, score=0.722 total time=   5.8s\n",
      "[CV 1/5] END booster=dart, max_depth=5, n_estimators=50, random_state=42;, score=0.710 total time=   0.9s\n",
      "[CV 2/5] END booster=dart, max_depth=5, n_estimators=50, random_state=42;, score=0.728 total time=   0.8s\n",
      "[CV 3/5] END booster=dart, max_depth=5, n_estimators=50, random_state=42;, score=0.707 total time=   0.9s\n",
      "[CV 4/5] END booster=dart, max_depth=5, n_estimators=50, random_state=42;, score=0.714 total time=   0.8s\n",
      "[CV 5/5] END booster=dart, max_depth=5, n_estimators=50, random_state=42;, score=0.719 total time=   0.8s\n",
      "[CV 1/5] END booster=dart, max_depth=5, n_estimators=100, random_state=42;, score=0.710 total time=   2.8s\n",
      "[CV 2/5] END booster=dart, max_depth=5, n_estimators=100, random_state=42;, score=0.716 total time=   2.8s\n",
      "[CV 3/5] END booster=dart, max_depth=5, n_estimators=100, random_state=42;, score=0.700 total time=   2.9s\n",
      "[CV 4/5] END booster=dart, max_depth=5, n_estimators=100, random_state=42;, score=0.714 total time=   2.9s\n",
      "[CV 5/5] END booster=dart, max_depth=5, n_estimators=100, random_state=42;, score=0.705 total time=   3.2s\n",
      "[CV 1/5] END booster=dart, max_depth=5, n_estimators=150, random_state=42;, score=0.715 total time=   5.8s\n",
      "[CV 2/5] END booster=dart, max_depth=5, n_estimators=150, random_state=42;, score=0.712 total time=   5.7s\n",
      "[CV 3/5] END booster=dart, max_depth=5, n_estimators=150, random_state=42;, score=0.698 total time=   5.7s\n",
      "[CV 4/5] END booster=dart, max_depth=5, n_estimators=150, random_state=42;, score=0.714 total time=   5.8s\n",
      "[CV 5/5] END booster=dart, max_depth=5, n_estimators=150, random_state=42;, score=0.715 total time=   5.9s\n",
      "[CV 1/5] END booster=dart, max_depth=10, n_estimators=50, random_state=42;, score=0.709 total time=   1.3s\n",
      "[CV 2/5] END booster=dart, max_depth=10, n_estimators=50, random_state=42;, score=0.711 total time=   1.5s\n",
      "[CV 3/5] END booster=dart, max_depth=10, n_estimators=50, random_state=42;, score=0.677 total time=   1.4s\n",
      "[CV 4/5] END booster=dart, max_depth=10, n_estimators=50, random_state=42;, score=0.696 total time=   1.8s\n",
      "[CV 5/5] END booster=dart, max_depth=10, n_estimators=50, random_state=42;, score=0.705 total time=   1.4s\n",
      "[CV 1/5] END booster=dart, max_depth=10, n_estimators=100, random_state=42;, score=0.714 total time=   4.1s\n",
      "[CV 2/5] END booster=dart, max_depth=10, n_estimators=100, random_state=42;, score=0.702 total time=   3.8s\n",
      "[CV 3/5] END booster=dart, max_depth=10, n_estimators=100, random_state=42;, score=0.678 total time=   4.3s\n",
      "[CV 4/5] END booster=dart, max_depth=10, n_estimators=100, random_state=42;, score=0.693 total time=   3.4s\n",
      "[CV 5/5] END booster=dart, max_depth=10, n_estimators=100, random_state=42;, score=0.709 total time=   2.9s\n",
      "[CV 1/5] END booster=dart, max_depth=10, n_estimators=150, random_state=42;, score=0.704 total time=   6.1s\n",
      "[CV 2/5] END booster=dart, max_depth=10, n_estimators=150, random_state=42;, score=0.702 total time=  10.9s\n",
      "[CV 3/5] END booster=dart, max_depth=10, n_estimators=150, random_state=42;, score=0.671 total time=  11.3s\n",
      "[CV 4/5] END booster=dart, max_depth=10, n_estimators=150, random_state=42;, score=0.703 total time=   8.9s\n",
      "[CV 5/5] END booster=dart, max_depth=10, n_estimators=150, random_state=42;, score=0.710 total time=   8.6s\n"
     ]
    },
    {
     "data": {
      "text/html": [
       "<style>#sk-container-id-2 {color: black;background-color: white;}#sk-container-id-2 pre{padding: 0;}#sk-container-id-2 div.sk-toggleable {background-color: white;}#sk-container-id-2 label.sk-toggleable__label {cursor: pointer;display: block;width: 100%;margin-bottom: 0;padding: 0.3em;box-sizing: border-box;text-align: center;}#sk-container-id-2 label.sk-toggleable__label-arrow:before {content: \"▸\";float: left;margin-right: 0.25em;color: #696969;}#sk-container-id-2 label.sk-toggleable__label-arrow:hover:before {color: black;}#sk-container-id-2 div.sk-estimator:hover label.sk-toggleable__label-arrow:before {color: black;}#sk-container-id-2 div.sk-toggleable__content {max-height: 0;max-width: 0;overflow: hidden;text-align: left;background-color: #f0f8ff;}#sk-container-id-2 div.sk-toggleable__content pre {margin: 0.2em;color: black;border-radius: 0.25em;background-color: #f0f8ff;}#sk-container-id-2 input.sk-toggleable__control:checked~div.sk-toggleable__content {max-height: 200px;max-width: 100%;overflow: auto;}#sk-container-id-2 input.sk-toggleable__control:checked~label.sk-toggleable__label-arrow:before {content: \"▾\";}#sk-container-id-2 div.sk-estimator input.sk-toggleable__control:checked~label.sk-toggleable__label {background-color: #d4ebff;}#sk-container-id-2 div.sk-label input.sk-toggleable__control:checked~label.sk-toggleable__label {background-color: #d4ebff;}#sk-container-id-2 input.sk-hidden--visually {border: 0;clip: rect(1px 1px 1px 1px);clip: rect(1px, 1px, 1px, 1px);height: 1px;margin: -1px;overflow: hidden;padding: 0;position: absolute;width: 1px;}#sk-container-id-2 div.sk-estimator {font-family: monospace;background-color: #f0f8ff;border: 1px dotted black;border-radius: 0.25em;box-sizing: border-box;margin-bottom: 0.5em;}#sk-container-id-2 div.sk-estimator:hover {background-color: #d4ebff;}#sk-container-id-2 div.sk-parallel-item::after {content: \"\";width: 100%;border-bottom: 1px solid gray;flex-grow: 1;}#sk-container-id-2 div.sk-label:hover label.sk-toggleable__label {background-color: #d4ebff;}#sk-container-id-2 div.sk-serial::before {content: \"\";position: absolute;border-left: 1px solid gray;box-sizing: border-box;top: 0;bottom: 0;left: 50%;z-index: 0;}#sk-container-id-2 div.sk-serial {display: flex;flex-direction: column;align-items: center;background-color: white;padding-right: 0.2em;padding-left: 0.2em;position: relative;}#sk-container-id-2 div.sk-item {position: relative;z-index: 1;}#sk-container-id-2 div.sk-parallel {display: flex;align-items: stretch;justify-content: center;background-color: white;position: relative;}#sk-container-id-2 div.sk-item::before, #sk-container-id-2 div.sk-parallel-item::before {content: \"\";position: absolute;border-left: 1px solid gray;box-sizing: border-box;top: 0;bottom: 0;left: 50%;z-index: -1;}#sk-container-id-2 div.sk-parallel-item {display: flex;flex-direction: column;z-index: 1;position: relative;background-color: white;}#sk-container-id-2 div.sk-parallel-item:first-child::after {align-self: flex-end;width: 50%;}#sk-container-id-2 div.sk-parallel-item:last-child::after {align-self: flex-start;width: 50%;}#sk-container-id-2 div.sk-parallel-item:only-child::after {width: 0;}#sk-container-id-2 div.sk-dashed-wrapped {border: 1px dashed gray;margin: 0 0.4em 0.5em 0.4em;box-sizing: border-box;padding-bottom: 0.4em;background-color: white;}#sk-container-id-2 div.sk-label label {font-family: monospace;font-weight: bold;display: inline-block;line-height: 1.2em;}#sk-container-id-2 div.sk-label-container {text-align: center;}#sk-container-id-2 div.sk-container {/* jupyter's `normalize.less` sets `[hidden] { display: none; }` but bootstrap.min.css set `[hidden] { display: none !important; }` so we also need the `!important` here to be able to override the default hidden behavior on the sphinx rendered scikit-learn.org. See: https://github.com/scikit-learn/scikit-learn/issues/21755 */display: inline-block !important;position: relative;}#sk-container-id-2 div.sk-text-repr-fallback {display: none;}</style><div id=\"sk-container-id-2\" class=\"sk-top-container\"><div class=\"sk-text-repr-fallback\"><pre>GridSearchCV(estimator=XGBClassifier(base_score=None, booster=None,\n",
       "                                     callbacks=None, colsample_bylevel=None,\n",
       "                                     colsample_bynode=None,\n",
       "                                     colsample_bytree=None,\n",
       "                                     early_stopping_rounds=None,\n",
       "                                     enable_categorical=False, eval_metric=None,\n",
       "                                     feature_types=None, gamma=None,\n",
       "                                     gpu_id=None, grow_policy=None,\n",
       "                                     importance_type=None,\n",
       "                                     interaction_constraints=None,\n",
       "                                     learning_rate=None, max_b...\n",
       "                                     max_delta_step=None, max_depth=None,\n",
       "                                     max_leaves=None, min_child_weight=None,\n",
       "                                     missing=nan, monotone_constraints=None,\n",
       "                                     n_estimators=100, n_jobs=None,\n",
       "                                     num_parallel_tree=None, predictor=None,\n",
       "                                     random_state=None, ...),\n",
       "             param_grid=[{&#x27;booster&#x27;: [&#x27;gbtree&#x27;, &#x27;dart&#x27;],\n",
       "                          &#x27;max_depth&#x27;: [None, 5, 10],\n",
       "                          &#x27;n_estimators&#x27;: [50, 100, 150],\n",
       "                          &#x27;random_state&#x27;: [42]}],\n",
       "             scoring=&#x27;balanced_accuracy&#x27;, verbose=3)</pre><b>In a Jupyter environment, please rerun this cell to show the HTML representation or trust the notebook. <br />On GitHub, the HTML representation is unable to render, please try loading this page with nbviewer.org.</b></div><div class=\"sk-container\" hidden><div class=\"sk-item sk-dashed-wrapped\"><div class=\"sk-label-container\"><div class=\"sk-label sk-toggleable\"><input class=\"sk-toggleable__control sk-hidden--visually\" id=\"sk-estimator-id-2\" type=\"checkbox\" ><label for=\"sk-estimator-id-2\" class=\"sk-toggleable__label sk-toggleable__label-arrow\">GridSearchCV</label><div class=\"sk-toggleable__content\"><pre>GridSearchCV(estimator=XGBClassifier(base_score=None, booster=None,\n",
       "                                     callbacks=None, colsample_bylevel=None,\n",
       "                                     colsample_bynode=None,\n",
       "                                     colsample_bytree=None,\n",
       "                                     early_stopping_rounds=None,\n",
       "                                     enable_categorical=False, eval_metric=None,\n",
       "                                     feature_types=None, gamma=None,\n",
       "                                     gpu_id=None, grow_policy=None,\n",
       "                                     importance_type=None,\n",
       "                                     interaction_constraints=None,\n",
       "                                     learning_rate=None, max_b...\n",
       "                                     max_delta_step=None, max_depth=None,\n",
       "                                     max_leaves=None, min_child_weight=None,\n",
       "                                     missing=nan, monotone_constraints=None,\n",
       "                                     n_estimators=100, n_jobs=None,\n",
       "                                     num_parallel_tree=None, predictor=None,\n",
       "                                     random_state=None, ...),\n",
       "             param_grid=[{&#x27;booster&#x27;: [&#x27;gbtree&#x27;, &#x27;dart&#x27;],\n",
       "                          &#x27;max_depth&#x27;: [None, 5, 10],\n",
       "                          &#x27;n_estimators&#x27;: [50, 100, 150],\n",
       "                          &#x27;random_state&#x27;: [42]}],\n",
       "             scoring=&#x27;balanced_accuracy&#x27;, verbose=3)</pre></div></div></div><div class=\"sk-parallel\"><div class=\"sk-parallel-item\"><div class=\"sk-item\"><div class=\"sk-label-container\"><div class=\"sk-label sk-toggleable\"><input class=\"sk-toggleable__control sk-hidden--visually\" id=\"sk-estimator-id-3\" type=\"checkbox\" ><label for=\"sk-estimator-id-3\" class=\"sk-toggleable__label sk-toggleable__label-arrow\">estimator: XGBClassifier</label><div class=\"sk-toggleable__content\"><pre>XGBClassifier(base_score=None, booster=None, callbacks=None,\n",
       "              colsample_bylevel=None, colsample_bynode=None,\n",
       "              colsample_bytree=None, early_stopping_rounds=None,\n",
       "              enable_categorical=False, eval_metric=None, feature_types=None,\n",
       "              gamma=None, gpu_id=None, grow_policy=None, importance_type=None,\n",
       "              interaction_constraints=None, learning_rate=None, max_bin=None,\n",
       "              max_cat_threshold=None, max_cat_to_onehot=None,\n",
       "              max_delta_step=None, max_depth=None, max_leaves=None,\n",
       "              min_child_weight=None, missing=nan, monotone_constraints=None,\n",
       "              n_estimators=100, n_jobs=None, num_parallel_tree=None,\n",
       "              predictor=None, random_state=None, ...)</pre></div></div></div><div class=\"sk-serial\"><div class=\"sk-item\"><div class=\"sk-estimator sk-toggleable\"><input class=\"sk-toggleable__control sk-hidden--visually\" id=\"sk-estimator-id-4\" type=\"checkbox\" ><label for=\"sk-estimator-id-4\" class=\"sk-toggleable__label sk-toggleable__label-arrow\">XGBClassifier</label><div class=\"sk-toggleable__content\"><pre>XGBClassifier(base_score=None, booster=None, callbacks=None,\n",
       "              colsample_bylevel=None, colsample_bynode=None,\n",
       "              colsample_bytree=None, early_stopping_rounds=None,\n",
       "              enable_categorical=False, eval_metric=None, feature_types=None,\n",
       "              gamma=None, gpu_id=None, grow_policy=None, importance_type=None,\n",
       "              interaction_constraints=None, learning_rate=None, max_bin=None,\n",
       "              max_cat_threshold=None, max_cat_to_onehot=None,\n",
       "              max_delta_step=None, max_depth=None, max_leaves=None,\n",
       "              min_child_weight=None, missing=nan, monotone_constraints=None,\n",
       "              n_estimators=100, n_jobs=None, num_parallel_tree=None,\n",
       "              predictor=None, random_state=None, ...)</pre></div></div></div></div></div></div></div></div></div></div>"
      ],
      "text/plain": [
       "GridSearchCV(estimator=XGBClassifier(base_score=None, booster=None,\n",
       "                                     callbacks=None, colsample_bylevel=None,\n",
       "                                     colsample_bynode=None,\n",
       "                                     colsample_bytree=None,\n",
       "                                     early_stopping_rounds=None,\n",
       "                                     enable_categorical=False, eval_metric=None,\n",
       "                                     feature_types=None, gamma=None,\n",
       "                                     gpu_id=None, grow_policy=None,\n",
       "                                     importance_type=None,\n",
       "                                     interaction_constraints=None,\n",
       "                                     learning_rate=None, max_b...\n",
       "                                     max_delta_step=None, max_depth=None,\n",
       "                                     max_leaves=None, min_child_weight=None,\n",
       "                                     missing=nan, monotone_constraints=None,\n",
       "                                     n_estimators=100, n_jobs=None,\n",
       "                                     num_parallel_tree=None, predictor=None,\n",
       "                                     random_state=None, ...),\n",
       "             param_grid=[{'booster': ['gbtree', 'dart'],\n",
       "                          'max_depth': [None, 5, 10],\n",
       "                          'n_estimators': [50, 100, 150],\n",
       "                          'random_state': [42]}],\n",
       "             scoring='balanced_accuracy', verbose=3)"
      ]
     },
     "execution_count": 12,
     "metadata": {},
     "output_type": "execute_result"
    }
   ],
   "source": [
    "# specify heperparameters grid to search over\n",
    "parameters = [{\n",
    "'booster': ['gbtree', 'dart'], \n",
    "'n_estimators': [50,100,150],\n",
    "'max_depth': [None, 5, 10],\n",
    "'random_state': [42]}]\n",
    "# initialize classifier\n",
    "clf = GridSearchCV(\n",
    "        XGBClassifier(), parameters, scoring='balanced_accuracy', verbose = 3\n",
    "    )\n",
    "# \n",
    "clf.fit(ct.transform(X_train), le.transform(y_train))"
   ]
  },
  {
   "cell_type": "code",
   "execution_count": 13,
   "id": "2ab88744",
   "metadata": {},
   "outputs": [
    {
     "data": {
      "text/html": [
       "<style>#sk-container-id-3 {color: black;background-color: white;}#sk-container-id-3 pre{padding: 0;}#sk-container-id-3 div.sk-toggleable {background-color: white;}#sk-container-id-3 label.sk-toggleable__label {cursor: pointer;display: block;width: 100%;margin-bottom: 0;padding: 0.3em;box-sizing: border-box;text-align: center;}#sk-container-id-3 label.sk-toggleable__label-arrow:before {content: \"▸\";float: left;margin-right: 0.25em;color: #696969;}#sk-container-id-3 label.sk-toggleable__label-arrow:hover:before {color: black;}#sk-container-id-3 div.sk-estimator:hover label.sk-toggleable__label-arrow:before {color: black;}#sk-container-id-3 div.sk-toggleable__content {max-height: 0;max-width: 0;overflow: hidden;text-align: left;background-color: #f0f8ff;}#sk-container-id-3 div.sk-toggleable__content pre {margin: 0.2em;color: black;border-radius: 0.25em;background-color: #f0f8ff;}#sk-container-id-3 input.sk-toggleable__control:checked~div.sk-toggleable__content {max-height: 200px;max-width: 100%;overflow: auto;}#sk-container-id-3 input.sk-toggleable__control:checked~label.sk-toggleable__label-arrow:before {content: \"▾\";}#sk-container-id-3 div.sk-estimator input.sk-toggleable__control:checked~label.sk-toggleable__label {background-color: #d4ebff;}#sk-container-id-3 div.sk-label input.sk-toggleable__control:checked~label.sk-toggleable__label {background-color: #d4ebff;}#sk-container-id-3 input.sk-hidden--visually {border: 0;clip: rect(1px 1px 1px 1px);clip: rect(1px, 1px, 1px, 1px);height: 1px;margin: -1px;overflow: hidden;padding: 0;position: absolute;width: 1px;}#sk-container-id-3 div.sk-estimator {font-family: monospace;background-color: #f0f8ff;border: 1px dotted black;border-radius: 0.25em;box-sizing: border-box;margin-bottom: 0.5em;}#sk-container-id-3 div.sk-estimator:hover {background-color: #d4ebff;}#sk-container-id-3 div.sk-parallel-item::after {content: \"\";width: 100%;border-bottom: 1px solid gray;flex-grow: 1;}#sk-container-id-3 div.sk-label:hover label.sk-toggleable__label {background-color: #d4ebff;}#sk-container-id-3 div.sk-serial::before {content: \"\";position: absolute;border-left: 1px solid gray;box-sizing: border-box;top: 0;bottom: 0;left: 50%;z-index: 0;}#sk-container-id-3 div.sk-serial {display: flex;flex-direction: column;align-items: center;background-color: white;padding-right: 0.2em;padding-left: 0.2em;position: relative;}#sk-container-id-3 div.sk-item {position: relative;z-index: 1;}#sk-container-id-3 div.sk-parallel {display: flex;align-items: stretch;justify-content: center;background-color: white;position: relative;}#sk-container-id-3 div.sk-item::before, #sk-container-id-3 div.sk-parallel-item::before {content: \"\";position: absolute;border-left: 1px solid gray;box-sizing: border-box;top: 0;bottom: 0;left: 50%;z-index: -1;}#sk-container-id-3 div.sk-parallel-item {display: flex;flex-direction: column;z-index: 1;position: relative;background-color: white;}#sk-container-id-3 div.sk-parallel-item:first-child::after {align-self: flex-end;width: 50%;}#sk-container-id-3 div.sk-parallel-item:last-child::after {align-self: flex-start;width: 50%;}#sk-container-id-3 div.sk-parallel-item:only-child::after {width: 0;}#sk-container-id-3 div.sk-dashed-wrapped {border: 1px dashed gray;margin: 0 0.4em 0.5em 0.4em;box-sizing: border-box;padding-bottom: 0.4em;background-color: white;}#sk-container-id-3 div.sk-label label {font-family: monospace;font-weight: bold;display: inline-block;line-height: 1.2em;}#sk-container-id-3 div.sk-label-container {text-align: center;}#sk-container-id-3 div.sk-container {/* jupyter's `normalize.less` sets `[hidden] { display: none; }` but bootstrap.min.css set `[hidden] { display: none !important; }` so we also need the `!important` here to be able to override the default hidden behavior on the sphinx rendered scikit-learn.org. See: https://github.com/scikit-learn/scikit-learn/issues/21755 */display: inline-block !important;position: relative;}#sk-container-id-3 div.sk-text-repr-fallback {display: none;}</style><div id=\"sk-container-id-3\" class=\"sk-top-container\"><div class=\"sk-text-repr-fallback\"><pre>Pipeline(steps=[(&#x27;columntransformer&#x27;,\n",
       "                 ColumnTransformer(transformers=[(&#x27;num&#x27;, StandardScaler(),\n",
       "                                                  [4, 17, 18]),\n",
       "                                                 (&#x27;cat&#x27;,\n",
       "                                                  OneHotEncoder(handle_unknown=&#x27;ignore&#x27;,\n",
       "                                                                sparse_output=False),\n",
       "                                                  [0, 1, 2, 3, 5, 6, 7, 8, 9,\n",
       "                                                   10, 11, 12, 13, 14, 15,\n",
       "                                                   16])])),\n",
       "                (&#x27;xgbclassifier&#x27;,\n",
       "                 XGBClassifier(base_score=None, booster=&#x27;gbtree&#x27;,\n",
       "                               callbacks=None, colsample_bylevel=None,\n",
       "                               colsample_bynode=None, colsample_b...\n",
       "                               feature_types=None, gamma=None, gpu_id=None,\n",
       "                               grow_policy=None, importance_type=None,\n",
       "                               interaction_constraints=None, learning_rate=None,\n",
       "                               max_bin=None, max_cat_threshold=None,\n",
       "                               max_cat_to_onehot=None, max_delta_step=None,\n",
       "                               max_depth=5, max_leaves=None,\n",
       "                               min_child_weight=None, missing=nan,\n",
       "                               monotone_constraints=None, n_estimators=50,\n",
       "                               n_jobs=None, num_parallel_tree=None,\n",
       "                               predictor=None, random_state=42, ...))])</pre><b>In a Jupyter environment, please rerun this cell to show the HTML representation or trust the notebook. <br />On GitHub, the HTML representation is unable to render, please try loading this page with nbviewer.org.</b></div><div class=\"sk-container\" hidden><div class=\"sk-item sk-dashed-wrapped\"><div class=\"sk-label-container\"><div class=\"sk-label sk-toggleable\"><input class=\"sk-toggleable__control sk-hidden--visually\" id=\"sk-estimator-id-5\" type=\"checkbox\" ><label for=\"sk-estimator-id-5\" class=\"sk-toggleable__label sk-toggleable__label-arrow\">Pipeline</label><div class=\"sk-toggleable__content\"><pre>Pipeline(steps=[(&#x27;columntransformer&#x27;,\n",
       "                 ColumnTransformer(transformers=[(&#x27;num&#x27;, StandardScaler(),\n",
       "                                                  [4, 17, 18]),\n",
       "                                                 (&#x27;cat&#x27;,\n",
       "                                                  OneHotEncoder(handle_unknown=&#x27;ignore&#x27;,\n",
       "                                                                sparse_output=False),\n",
       "                                                  [0, 1, 2, 3, 5, 6, 7, 8, 9,\n",
       "                                                   10, 11, 12, 13, 14, 15,\n",
       "                                                   16])])),\n",
       "                (&#x27;xgbclassifier&#x27;,\n",
       "                 XGBClassifier(base_score=None, booster=&#x27;gbtree&#x27;,\n",
       "                               callbacks=None, colsample_bylevel=None,\n",
       "                               colsample_bynode=None, colsample_b...\n",
       "                               feature_types=None, gamma=None, gpu_id=None,\n",
       "                               grow_policy=None, importance_type=None,\n",
       "                               interaction_constraints=None, learning_rate=None,\n",
       "                               max_bin=None, max_cat_threshold=None,\n",
       "                               max_cat_to_onehot=None, max_delta_step=None,\n",
       "                               max_depth=5, max_leaves=None,\n",
       "                               min_child_weight=None, missing=nan,\n",
       "                               monotone_constraints=None, n_estimators=50,\n",
       "                               n_jobs=None, num_parallel_tree=None,\n",
       "                               predictor=None, random_state=42, ...))])</pre></div></div></div><div class=\"sk-serial\"><div class=\"sk-item sk-dashed-wrapped\"><div class=\"sk-label-container\"><div class=\"sk-label sk-toggleable\"><input class=\"sk-toggleable__control sk-hidden--visually\" id=\"sk-estimator-id-6\" type=\"checkbox\" ><label for=\"sk-estimator-id-6\" class=\"sk-toggleable__label sk-toggleable__label-arrow\">columntransformer: ColumnTransformer</label><div class=\"sk-toggleable__content\"><pre>ColumnTransformer(transformers=[(&#x27;num&#x27;, StandardScaler(), [4, 17, 18]),\n",
       "                                (&#x27;cat&#x27;,\n",
       "                                 OneHotEncoder(handle_unknown=&#x27;ignore&#x27;,\n",
       "                                               sparse_output=False),\n",
       "                                 [0, 1, 2, 3, 5, 6, 7, 8, 9, 10, 11, 12, 13, 14,\n",
       "                                  15, 16])])</pre></div></div></div><div class=\"sk-parallel\"><div class=\"sk-parallel-item\"><div class=\"sk-item\"><div class=\"sk-label-container\"><div class=\"sk-label sk-toggleable\"><input class=\"sk-toggleable__control sk-hidden--visually\" id=\"sk-estimator-id-7\" type=\"checkbox\" ><label for=\"sk-estimator-id-7\" class=\"sk-toggleable__label sk-toggleable__label-arrow\">num</label><div class=\"sk-toggleable__content\"><pre>[4, 17, 18]</pre></div></div></div><div class=\"sk-serial\"><div class=\"sk-item\"><div class=\"sk-estimator sk-toggleable\"><input class=\"sk-toggleable__control sk-hidden--visually\" id=\"sk-estimator-id-8\" type=\"checkbox\" ><label for=\"sk-estimator-id-8\" class=\"sk-toggleable__label sk-toggleable__label-arrow\">StandardScaler</label><div class=\"sk-toggleable__content\"><pre>StandardScaler()</pre></div></div></div></div></div></div><div class=\"sk-parallel-item\"><div class=\"sk-item\"><div class=\"sk-label-container\"><div class=\"sk-label sk-toggleable\"><input class=\"sk-toggleable__control sk-hidden--visually\" id=\"sk-estimator-id-9\" type=\"checkbox\" ><label for=\"sk-estimator-id-9\" class=\"sk-toggleable__label sk-toggleable__label-arrow\">cat</label><div class=\"sk-toggleable__content\"><pre>[0, 1, 2, 3, 5, 6, 7, 8, 9, 10, 11, 12, 13, 14, 15, 16]</pre></div></div></div><div class=\"sk-serial\"><div class=\"sk-item\"><div class=\"sk-estimator sk-toggleable\"><input class=\"sk-toggleable__control sk-hidden--visually\" id=\"sk-estimator-id-10\" type=\"checkbox\" ><label for=\"sk-estimator-id-10\" class=\"sk-toggleable__label sk-toggleable__label-arrow\">OneHotEncoder</label><div class=\"sk-toggleable__content\"><pre>OneHotEncoder(handle_unknown=&#x27;ignore&#x27;, sparse_output=False)</pre></div></div></div></div></div></div></div></div><div class=\"sk-item\"><div class=\"sk-estimator sk-toggleable\"><input class=\"sk-toggleable__control sk-hidden--visually\" id=\"sk-estimator-id-11\" type=\"checkbox\" ><label for=\"sk-estimator-id-11\" class=\"sk-toggleable__label sk-toggleable__label-arrow\">XGBClassifier</label><div class=\"sk-toggleable__content\"><pre>XGBClassifier(base_score=None, booster=&#x27;gbtree&#x27;, callbacks=None,\n",
       "              colsample_bylevel=None, colsample_bynode=None,\n",
       "              colsample_bytree=None, early_stopping_rounds=None,\n",
       "              enable_categorical=False, eval_metric=None, feature_types=None,\n",
       "              gamma=None, gpu_id=None, grow_policy=None, importance_type=None,\n",
       "              interaction_constraints=None, learning_rate=None, max_bin=None,\n",
       "              max_cat_threshold=None, max_cat_to_onehot=None,\n",
       "              max_delta_step=None, max_depth=5, max_leaves=None,\n",
       "              min_child_weight=None, missing=nan, monotone_constraints=None,\n",
       "              n_estimators=50, n_jobs=None, num_parallel_tree=None,\n",
       "              predictor=None, random_state=42, ...)</pre></div></div></div></div></div></div></div>"
      ],
      "text/plain": [
       "Pipeline(steps=[('columntransformer',\n",
       "                 ColumnTransformer(transformers=[('num', StandardScaler(),\n",
       "                                                  [4, 17, 18]),\n",
       "                                                 ('cat',\n",
       "                                                  OneHotEncoder(handle_unknown='ignore',\n",
       "                                                                sparse_output=False),\n",
       "                                                  [0, 1, 2, 3, 5, 6, 7, 8, 9,\n",
       "                                                   10, 11, 12, 13, 14, 15,\n",
       "                                                   16])])),\n",
       "                ('xgbclassifier',\n",
       "                 XGBClassifier(base_score=None, booster='gbtree',\n",
       "                               callbacks=None, colsample_bylevel=None,\n",
       "                               colsample_bynode=None, colsample_b...\n",
       "                               feature_types=None, gamma=None, gpu_id=None,\n",
       "                               grow_policy=None, importance_type=None,\n",
       "                               interaction_constraints=None, learning_rate=None,\n",
       "                               max_bin=None, max_cat_threshold=None,\n",
       "                               max_cat_to_onehot=None, max_delta_step=None,\n",
       "                               max_depth=5, max_leaves=None,\n",
       "                               min_child_weight=None, missing=nan,\n",
       "                               monotone_constraints=None, n_estimators=50,\n",
       "                               n_jobs=None, num_parallel_tree=None,\n",
       "                               predictor=None, random_state=42, ...))])"
      ]
     },
     "execution_count": 13,
     "metadata": {},
     "output_type": "execute_result"
    }
   ],
   "source": [
    "\n",
    "\n",
    "pipeline = make_pipeline(ct, XGBClassifier(**clf.best_params_))\n",
    "pipeline.fit(X_train_resampled, le.transform(y_train_resampled))"
   ]
  },
  {
   "cell_type": "code",
   "execution_count": 14,
   "id": "057a0a21",
   "metadata": {},
   "outputs": [
    {
     "data": {
      "text/plain": [
       "0.7306970104131676"
      ]
     },
     "execution_count": 14,
     "metadata": {},
     "output_type": "execute_result"
    }
   ],
   "source": [
    "y_pred = pipeline.predict(X_test)\n",
    "balanced_accuracy_score(y_test, le.inverse_transform(y_pred))"
   ]
  },
  {
   "cell_type": "code",
   "execution_count": 15,
   "id": "4d2657e7",
   "metadata": {},
   "outputs": [],
   "source": [
    "from skl2onnx import to_onnx, update_registered_converter\n",
    "from onnxmltools.convert.xgboost.operator_converters.XGBoost import convert_xgboost\n",
    "from skl2onnx.common.shape_calculator import calculate_linear_classifier_output_shapes\n",
    "from skl2onnx.common.data_types import FloatTensorType, StringTensorType\n",
    "from onnx import save_model\n",
    "\n",
    "update_registered_converter(\n",
    "    XGBClassifier,\n",
    "    \"XGBoostXGBClassifier\",\n",
    "    calculate_linear_classifier_output_shapes,\n",
    "    convert_xgboost,\n",
    "    options={\"nocl\": [True, False], \"zipmap\": [True, False, \"columns\"]},\n",
    ")\n"
   ]
  },
  {
   "cell_type": "code",
   "execution_count": 16,
   "id": "fa2ef523",
   "metadata": {},
   "outputs": [],
   "source": [
    "initial_types = []\n",
    "for i, c in enumerate(df.columns[:-1]):\n",
    "    if i in cat_columns:\n",
    "        tensor_type = StringTensorType\n",
    "    else: \n",
    "        tensor_type = FloatTensorType\n",
    "    initial_types.append((c, tensor_type([None, 1])))\n",
    "onx = to_onnx(pipeline, initial_types = initial_types,  options={StandardScaler: {\"div\": \"div_cast\"}})"
   ]
  },
  {
   "cell_type": "code",
   "execution_count": 17,
   "id": "aa23c700",
   "metadata": {},
   "outputs": [],
   "source": [
    "save_model(onx, 'model.onnx')"
   ]
  },
  {
   "attachments": {},
   "cell_type": "markdown",
   "id": "2eff9fd9",
   "metadata": {},
   "source": [
    "# Training in one line using Falcon ML"
   ]
  },
  {
   "cell_type": "code",
   "execution_count": 1,
   "id": "dc01916f",
   "metadata": {},
   "outputs": [
    {
     "name": "stderr",
     "output_type": "stream",
     "text": [
      "/mnt/kingston240/miniconda3/lib/python3.9/site-packages/tqdm/auto.py:22: TqdmWarning: IProgress not found. Please update jupyter and ipywidgets. See https://ipywidgets.readthedocs.io/en/stable/user_install.html\n",
      "  from .autonotebook import tqdm as notebook_tqdm\n"
     ]
    },
    {
     "name": "stdout",
     "output_type": "stream",
     "text": [
      "Extension `falcon_ml_xgboost` does not seem to be loaded. Will try to load automatically.\n",
      "Attempting to load falcon_ml_xgboost...\n",
      "Registered ['XGBOOST::OptunaLearner'] for task tabular_regression\n",
      "Registered ['XGBOOST::OptunaLearner'] for task tabular_classification\n",
      "Registered ['XGBOOST::PlainLearner'] for task tabular_regression\n",
      "Registered ['XGBOOST::PlainLearner'] for task tabular_classification\n",
      "\n",
      "Initializing a new TabularTaskManager for task `tabular_classification`\n",
      "<class 'pandas.core.frame.DataFrame'>\n",
      "<class 'pandas.core.frame.DataFrame'>\n",
      "Beginning training\n",
      "Beginning the main training phase\n",
      "Fitting the pipeline...\n"
     ]
    },
    {
     "name": "stderr",
     "output_type": "stream",
     "text": [
      "100%|██████████| 500/500 [22:17<00:00,  2.67s/it] \n"
     ]
    },
    {
     "name": "stdout",
     "output_type": "stream",
     "text": [
      "Finished training\n",
      "\n",
      "        N_SAMPLES  N_CLASSES       ACC      BACC  PRECISION    RECALL   \n",
      "train       5274          2  0.771141  0.791812   0.735885  0.791812  \\\n",
      "eval        1758          2  0.744027  0.758063   0.708269  0.758063   \n",
      "\n",
      "             F1  B_PRECISION  B_RECALL      B_F1     SCORE  SC_SCORE  \n",
      "train  0.743797     0.825110  0.771141  0.782997  0.791812  0.791812  \n",
      "eval   0.713720     0.800347  0.744027  0.757379  0.758063  0.758063   \n",
      "\n",
      "Saving the model ...\n",
      "Serializing to onnx...\n",
      "\t -> Merging step 1 ::: io_map [('falcon-pl-0/transformed_column', 'falcon-pl-1/model_input')] ::: outputs: ['falcon-pl-1/output_label', 'falcon-pl-1/output_probability']\n",
      "\t -> Merging step 2 ::: io_map [('falcon-pl-1/output_label', 'falcon-pl-2/encoded_labels')] ::: outputs: ['falcon-pl-2/decoded_labels']\n",
      "Serialization completed.\n",
      "The model was saved as `falcon_20230420.184007.onnx`\n"
     ]
    },
    {
     "data": {
      "text/plain": [
       "<falcon.tabular.tabular_manager.TabularTaskManager at 0x7f2558670250>"
      ]
     },
     "execution_count": 1,
     "metadata": {},
     "output_type": "execute_result"
    }
   ],
   "source": [
    "from falcon import AutoML\n",
    "\n",
    "AutoML(task = 'tabular_classification', train_data = 'train_dataset.csv', config = 'XGBOOST::OptunaLearner')"
   ]
  },
  {
   "cell_type": "code",
   "execution_count": null,
   "id": "a659acd0",
   "metadata": {},
   "outputs": [],
   "source": []
  }
 ],
 "metadata": {
  "kernelspec": {
   "display_name": "Python 3",
   "language": "python",
   "name": "python3"
  },
  "language_info": {
   "codemirror_mode": {
    "name": "ipython",
    "version": 3
   },
   "file_extension": ".py",
   "mimetype": "text/x-python",
   "name": "python",
   "nbconvert_exporter": "python",
   "pygments_lexer": "ipython3",
   "version": "3.9.15"
  },
  "vscode": {
   "interpreter": {
    "hash": "aee8b7b246df8f9039afb4144a1f6fd8d2ca17a180786b69acc140d282b71a49"
   }
  }
 },
 "nbformat": 4,
 "nbformat_minor": 5
}
